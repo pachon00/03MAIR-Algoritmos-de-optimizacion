{
  "nbformat": 4,
  "nbformat_minor": 0,
  "metadata": {
    "colab": {
      "name": "Presentacion1.ipynb",
      "version": "0.3.2",
      "provenance": [],
      "collapsed_sections": [],
      "include_colab_link": true
    },
    "kernelspec": {
      "name": "python3",
      "display_name": "Python 3"
    }
  },
  "cells": [
    {
      "cell_type": "markdown",
      "metadata": {
        "id": "view-in-github",
        "colab_type": "text"
      },
      "source": [
        "<a href=\"https://colab.research.google.com/github/pachon00/03MAIR-Algoritmos-de-optimizacion/blob/master/Presentacion1.ipynb\" target=\"_parent\"><img src=\"https://colab.research.google.com/assets/colab-badge.svg\" alt=\"Open In Colab\"/></a>"
      ]
    },
    {
      "metadata": {
        "id": "jhRBDdRDqC90",
        "colab_type": "text"
      },
      "cell_type": "markdown",
      "source": [
        "# Titanic data science project\n",
        "End-to-end en data science\n",
        "Fuente: https://www.kaggle.com/jeffd23/scikit-learn-ml-from-start-to-finish#\n",
        "Solucion del Titanic Survival competition en Kaggle: https://www.kaggle.com/c/titanic"
      ]
    },
    {
      "metadata": {
        "id": "nUmMyhzrvNQH",
        "colab_type": "text"
      },
      "cell_type": "markdown",
      "source": [
        "## Importación de librerias requeridas\n"
      ]
    },
    {
      "metadata": {
        "id": "csre0NS6p5n5",
        "colab_type": "code",
        "colab": {}
      },
      "cell_type": "code",
      "source": [
        "# importar paquetes necesarios\n",
        "import numpy as np\n",
        "import pandas as pd\n",
        "import matplotlib.pyplot as plt\n",
        "import seaborn as sns\n",
        "%matplotlib inline"
      ],
      "execution_count": 0,
      "outputs": []
    },
    {
      "metadata": {
        "id": "2MRmtj0avYem",
        "colab_type": "text"
      },
      "cell_type": "markdown",
      "source": [
        "## Carga de información desde un dataset almacenado en Github"
      ]
    },
    {
      "metadata": {
        "id": "mnPInWQErLpD",
        "colab_type": "code",
        "colab": {}
      },
      "cell_type": "code",
      "source": [
        "# Cargamos también un conjunto de datos\n",
        "data_file_url = 'https://raw.githubusercontent.com/pachon00/03MAIR-Algoritmos-de-optimizacion/master/train.csv'\n",
        "train_data = pd.read_csv(data_file_url)\n",
        "data_file_url = 'https://raw.githubusercontent.com/pachon00/03MAIR-Algoritmos-de-optimizacion/master/test.csv'\n",
        "test_data = pd.read_csv(data_file_url)"
      ],
      "execution_count": 0,
      "outputs": []
    },
    {
      "metadata": {
        "id": "KxIxvlECvmfI",
        "colab_type": "text"
      },
      "cell_type": "markdown",
      "source": [
        "## Exploración del dataset"
      ]
    },
    {
      "metadata": {
        "id": "rgEY0BbCvuOh",
        "colab_type": "code",
        "outputId": "7da8c40a-ebee-4710-ef70-ca2170ee3b74",
        "colab": {
          "base_uri": "https://localhost:8080/",
          "height": 254
        }
      },
      "cell_type": "code",
      "source": [
        "train_data.head()"
      ],
      "execution_count": 5,
      "outputs": [
        {
          "output_type": "execute_result",
          "data": {
            "text/html": [
              "<div>\n",
              "<style scoped>\n",
              "    .dataframe tbody tr th:only-of-type {\n",
              "        vertical-align: middle;\n",
              "    }\n",
              "\n",
              "    .dataframe tbody tr th {\n",
              "        vertical-align: top;\n",
              "    }\n",
              "\n",
              "    .dataframe thead th {\n",
              "        text-align: right;\n",
              "    }\n",
              "</style>\n",
              "<table border=\"1\" class=\"dataframe\">\n",
              "  <thead>\n",
              "    <tr style=\"text-align: right;\">\n",
              "      <th></th>\n",
              "      <th>PassengerId</th>\n",
              "      <th>Survived</th>\n",
              "      <th>Pclass</th>\n",
              "      <th>Name</th>\n",
              "      <th>Sex</th>\n",
              "      <th>Age</th>\n",
              "      <th>SibSp</th>\n",
              "      <th>Parch</th>\n",
              "      <th>Ticket</th>\n",
              "      <th>Fare</th>\n",
              "      <th>Cabin</th>\n",
              "      <th>Embarked</th>\n",
              "    </tr>\n",
              "  </thead>\n",
              "  <tbody>\n",
              "    <tr>\n",
              "      <th>0</th>\n",
              "      <td>1</td>\n",
              "      <td>0</td>\n",
              "      <td>3</td>\n",
              "      <td>Braund, Mr. Owen Harris</td>\n",
              "      <td>male</td>\n",
              "      <td>22.0</td>\n",
              "      <td>1</td>\n",
              "      <td>0</td>\n",
              "      <td>A/5 21171</td>\n",
              "      <td>7.2500</td>\n",
              "      <td>NaN</td>\n",
              "      <td>S</td>\n",
              "    </tr>\n",
              "    <tr>\n",
              "      <th>1</th>\n",
              "      <td>2</td>\n",
              "      <td>1</td>\n",
              "      <td>1</td>\n",
              "      <td>Cumings, Mrs. John Bradley (Florence Briggs Th...</td>\n",
              "      <td>female</td>\n",
              "      <td>38.0</td>\n",
              "      <td>1</td>\n",
              "      <td>0</td>\n",
              "      <td>PC 17599</td>\n",
              "      <td>71.2833</td>\n",
              "      <td>C85</td>\n",
              "      <td>C</td>\n",
              "    </tr>\n",
              "    <tr>\n",
              "      <th>2</th>\n",
              "      <td>3</td>\n",
              "      <td>1</td>\n",
              "      <td>3</td>\n",
              "      <td>Heikkinen, Miss. Laina</td>\n",
              "      <td>female</td>\n",
              "      <td>26.0</td>\n",
              "      <td>0</td>\n",
              "      <td>0</td>\n",
              "      <td>STON/O2. 3101282</td>\n",
              "      <td>7.9250</td>\n",
              "      <td>NaN</td>\n",
              "      <td>S</td>\n",
              "    </tr>\n",
              "    <tr>\n",
              "      <th>3</th>\n",
              "      <td>4</td>\n",
              "      <td>1</td>\n",
              "      <td>1</td>\n",
              "      <td>Futrelle, Mrs. Jacques Heath (Lily May Peel)</td>\n",
              "      <td>female</td>\n",
              "      <td>35.0</td>\n",
              "      <td>1</td>\n",
              "      <td>0</td>\n",
              "      <td>113803</td>\n",
              "      <td>53.1000</td>\n",
              "      <td>C123</td>\n",
              "      <td>S</td>\n",
              "    </tr>\n",
              "    <tr>\n",
              "      <th>4</th>\n",
              "      <td>5</td>\n",
              "      <td>0</td>\n",
              "      <td>3</td>\n",
              "      <td>Allen, Mr. William Henry</td>\n",
              "      <td>male</td>\n",
              "      <td>35.0</td>\n",
              "      <td>0</td>\n",
              "      <td>0</td>\n",
              "      <td>373450</td>\n",
              "      <td>8.0500</td>\n",
              "      <td>NaN</td>\n",
              "      <td>S</td>\n",
              "    </tr>\n",
              "  </tbody>\n",
              "</table>\n",
              "</div>"
            ],
            "text/plain": [
              "   PassengerId  Survived  Pclass  \\\n",
              "0            1         0       3   \n",
              "1            2         1       1   \n",
              "2            3         1       3   \n",
              "3            4         1       1   \n",
              "4            5         0       3   \n",
              "\n",
              "                                                Name     Sex   Age  SibSp  \\\n",
              "0                            Braund, Mr. Owen Harris    male  22.0      1   \n",
              "1  Cumings, Mrs. John Bradley (Florence Briggs Th...  female  38.0      1   \n",
              "2                             Heikkinen, Miss. Laina  female  26.0      0   \n",
              "3       Futrelle, Mrs. Jacques Heath (Lily May Peel)  female  35.0      1   \n",
              "4                           Allen, Mr. William Henry    male  35.0      0   \n",
              "\n",
              "   Parch            Ticket     Fare Cabin Embarked  \n",
              "0      0         A/5 21171   7.2500   NaN        S  \n",
              "1      0          PC 17599  71.2833   C85        C  \n",
              "2      0  STON/O2. 3101282   7.9250   NaN        S  \n",
              "3      0            113803  53.1000  C123        S  \n",
              "4      0            373450   8.0500   NaN        S  "
            ]
          },
          "metadata": {
            "tags": []
          },
          "execution_count": 5
        }
      ]
    },
    {
      "metadata": {
        "id": "XQN3Ljz4wVLf",
        "colab_type": "code",
        "outputId": "c1547ac5-c08b-4cab-d7f3-d0cefe97add1",
        "colab": {
          "base_uri": "https://localhost:8080/",
          "height": 68
        }
      },
      "cell_type": "code",
      "source": [
        "train_data.columns"
      ],
      "execution_count": 6,
      "outputs": [
        {
          "output_type": "execute_result",
          "data": {
            "text/plain": [
              "Index(['PassengerId', 'Survived', 'Pclass', 'Name', 'Sex', 'Age', 'SibSp',\n",
              "       'Parch', 'Ticket', 'Fare', 'Cabin', 'Embarked'],\n",
              "      dtype='object')"
            ]
          },
          "metadata": {
            "tags": []
          },
          "execution_count": 6
        }
      ]
    },
    {
      "metadata": {
        "id": "OPuCpjiZwZu8",
        "colab_type": "code",
        "outputId": "54cdf895-aa97-4339-c6f4-32e9ee43ecb0",
        "colab": {
          "base_uri": "https://localhost:8080/",
          "height": 297
        }
      },
      "cell_type": "code",
      "source": [
        "train_data.describe()"
      ],
      "execution_count": 0,
      "outputs": [
        {
          "output_type": "execute_result",
          "data": {
            "text/html": [
              "<div>\n",
              "<style scoped>\n",
              "    .dataframe tbody tr th:only-of-type {\n",
              "        vertical-align: middle;\n",
              "    }\n",
              "\n",
              "    .dataframe tbody tr th {\n",
              "        vertical-align: top;\n",
              "    }\n",
              "\n",
              "    .dataframe thead th {\n",
              "        text-align: right;\n",
              "    }\n",
              "</style>\n",
              "<table border=\"1\" class=\"dataframe\">\n",
              "  <thead>\n",
              "    <tr style=\"text-align: right;\">\n",
              "      <th></th>\n",
              "      <th>PassengerId</th>\n",
              "      <th>Survived</th>\n",
              "      <th>Pclass</th>\n",
              "      <th>Age</th>\n",
              "      <th>SibSp</th>\n",
              "      <th>Parch</th>\n",
              "      <th>Fare</th>\n",
              "    </tr>\n",
              "  </thead>\n",
              "  <tbody>\n",
              "    <tr>\n",
              "      <th>count</th>\n",
              "      <td>891.000000</td>\n",
              "      <td>891.000000</td>\n",
              "      <td>891.000000</td>\n",
              "      <td>714.000000</td>\n",
              "      <td>891.000000</td>\n",
              "      <td>891.000000</td>\n",
              "      <td>891.000000</td>\n",
              "    </tr>\n",
              "    <tr>\n",
              "      <th>mean</th>\n",
              "      <td>446.000000</td>\n",
              "      <td>0.383838</td>\n",
              "      <td>2.308642</td>\n",
              "      <td>29.699118</td>\n",
              "      <td>0.523008</td>\n",
              "      <td>0.381594</td>\n",
              "      <td>32.204208</td>\n",
              "    </tr>\n",
              "    <tr>\n",
              "      <th>std</th>\n",
              "      <td>257.353842</td>\n",
              "      <td>0.486592</td>\n",
              "      <td>0.836071</td>\n",
              "      <td>14.526497</td>\n",
              "      <td>1.102743</td>\n",
              "      <td>0.806057</td>\n",
              "      <td>49.693429</td>\n",
              "    </tr>\n",
              "    <tr>\n",
              "      <th>min</th>\n",
              "      <td>1.000000</td>\n",
              "      <td>0.000000</td>\n",
              "      <td>1.000000</td>\n",
              "      <td>0.420000</td>\n",
              "      <td>0.000000</td>\n",
              "      <td>0.000000</td>\n",
              "      <td>0.000000</td>\n",
              "    </tr>\n",
              "    <tr>\n",
              "      <th>25%</th>\n",
              "      <td>223.500000</td>\n",
              "      <td>0.000000</td>\n",
              "      <td>2.000000</td>\n",
              "      <td>20.125000</td>\n",
              "      <td>0.000000</td>\n",
              "      <td>0.000000</td>\n",
              "      <td>7.910400</td>\n",
              "    </tr>\n",
              "    <tr>\n",
              "      <th>50%</th>\n",
              "      <td>446.000000</td>\n",
              "      <td>0.000000</td>\n",
              "      <td>3.000000</td>\n",
              "      <td>28.000000</td>\n",
              "      <td>0.000000</td>\n",
              "      <td>0.000000</td>\n",
              "      <td>14.454200</td>\n",
              "    </tr>\n",
              "    <tr>\n",
              "      <th>75%</th>\n",
              "      <td>668.500000</td>\n",
              "      <td>1.000000</td>\n",
              "      <td>3.000000</td>\n",
              "      <td>38.000000</td>\n",
              "      <td>1.000000</td>\n",
              "      <td>0.000000</td>\n",
              "      <td>31.000000</td>\n",
              "    </tr>\n",
              "    <tr>\n",
              "      <th>max</th>\n",
              "      <td>891.000000</td>\n",
              "      <td>1.000000</td>\n",
              "      <td>3.000000</td>\n",
              "      <td>80.000000</td>\n",
              "      <td>8.000000</td>\n",
              "      <td>6.000000</td>\n",
              "      <td>512.329200</td>\n",
              "    </tr>\n",
              "  </tbody>\n",
              "</table>\n",
              "</div>"
            ],
            "text/plain": [
              "       PassengerId    Survived      Pclass         Age       SibSp  \\\n",
              "count   891.000000  891.000000  891.000000  714.000000  891.000000   \n",
              "mean    446.000000    0.383838    2.308642   29.699118    0.523008   \n",
              "std     257.353842    0.486592    0.836071   14.526497    1.102743   \n",
              "min       1.000000    0.000000    1.000000    0.420000    0.000000   \n",
              "25%     223.500000    0.000000    2.000000   20.125000    0.000000   \n",
              "50%     446.000000    0.000000    3.000000   28.000000    0.000000   \n",
              "75%     668.500000    1.000000    3.000000   38.000000    1.000000   \n",
              "max     891.000000    1.000000    3.000000   80.000000    8.000000   \n",
              "\n",
              "            Parch        Fare  \n",
              "count  891.000000  891.000000  \n",
              "mean     0.381594   32.204208  \n",
              "std      0.806057   49.693429  \n",
              "min      0.000000    0.000000  \n",
              "25%      0.000000    7.910400  \n",
              "50%      0.000000   14.454200  \n",
              "75%      0.000000   31.000000  \n",
              "max      6.000000  512.329200  "
            ]
          },
          "metadata": {
            "tags": []
          },
          "execution_count": 5
        }
      ]
    },
    {
      "metadata": {
        "id": "6u-Y_TabweXi",
        "colab_type": "code",
        "outputId": "56a3e5e5-f248-492a-9bb9-7331eb4b39ea",
        "colab": {
          "base_uri": "https://localhost:8080/",
          "height": 537
        }
      },
      "cell_type": "code",
      "source": [
        "#train_data['Age'].isnull().sum()\n",
        "aux = train_data[train_data['Sex']=='female']\n",
        "aux.info()\n",
        "aux2 =train_data[train_data['Sex']=='male']\n",
        "aux2.info()"
      ],
      "execution_count": 36,
      "outputs": [
        {
          "output_type": "stream",
          "text": [
            "<class 'pandas.core.frame.DataFrame'>\n",
            "Int64Index: 314 entries, 1 to 888\n",
            "Data columns (total 10 columns):\n",
            "PassengerId    314 non-null int64\n",
            "Survived       314 non-null int64\n",
            "Pclass         314 non-null int64\n",
            "Sex            314 non-null object\n",
            "Age            314 non-null category\n",
            "SibSp          314 non-null int64\n",
            "Parch          314 non-null int64\n",
            "Fare           314 non-null category\n",
            "Cabin          314 non-null object\n",
            "Title          314 non-null object\n",
            "dtypes: category(2), int64(5), object(3)\n",
            "memory usage: 23.1+ KB\n",
            "<class 'pandas.core.frame.DataFrame'>\n",
            "Int64Index: 577 entries, 0 to 890\n",
            "Data columns (total 10 columns):\n",
            "PassengerId    577 non-null int64\n",
            "Survived       577 non-null int64\n",
            "Pclass         577 non-null int64\n",
            "Sex            577 non-null object\n",
            "Age            577 non-null category\n",
            "SibSp          577 non-null int64\n",
            "Parch          577 non-null int64\n",
            "Fare           577 non-null category\n",
            "Cabin          577 non-null object\n",
            "Title          577 non-null object\n",
            "dtypes: category(2), int64(5), object(3)\n",
            "memory usage: 42.1+ KB\n"
          ],
          "name": "stdout"
        }
      ]
    },
    {
      "metadata": {
        "id": "QOBekz2i_ggq",
        "colab_type": "code",
        "colab": {
          "base_uri": "https://localhost:8080/",
          "height": 312
        },
        "outputId": "1b24cfad-a607-40ec-fe55-574ea80f9918"
      },
      "cell_type": "code",
      "source": [
        "train_data.info()"
      ],
      "execution_count": 9,
      "outputs": [
        {
          "output_type": "stream",
          "text": [
            "<class 'pandas.core.frame.DataFrame'>\n",
            "RangeIndex: 891 entries, 0 to 890\n",
            "Data columns (total 12 columns):\n",
            "PassengerId    891 non-null int64\n",
            "Survived       891 non-null int64\n",
            "Pclass         891 non-null int64\n",
            "Name           891 non-null object\n",
            "Sex            891 non-null object\n",
            "Age            714 non-null float64\n",
            "SibSp          891 non-null int64\n",
            "Parch          891 non-null int64\n",
            "Ticket         891 non-null object\n",
            "Fare           891 non-null float64\n",
            "Cabin          204 non-null object\n",
            "Embarked       889 non-null object\n",
            "dtypes: float64(2), int64(5), object(5)\n",
            "memory usage: 83.6+ KB\n"
          ],
          "name": "stdout"
        }
      ]
    },
    {
      "metadata": {
        "id": "Aa7oL1LtrcFA",
        "colab_type": "code",
        "outputId": "0f42294f-3a8b-4fc2-8a87-047e41b89bf6",
        "colab": {
          "base_uri": "https://localhost:8080/",
          "height": 208
        }
      },
      "cell_type": "code",
      "source": [
        "# operadores básicos\n",
        "train_data.sum()"
      ],
      "execution_count": 11,
      "outputs": [
        {
          "output_type": "execute_result",
          "data": {
            "text/plain": [
              "PassengerId                                               397386\n",
              "Survived                                                     342\n",
              "Pclass                                                      2057\n",
              "Name           Braund, Mr. Owen HarrisCumings, Mrs. John Brad...\n",
              "Sex            malefemalefemalefemalemalemalemalemalefemalefe...\n",
              "Age                                                      21205.2\n",
              "SibSp                                                        466\n",
              "Parch                                                        340\n",
              "Ticket         A/5 21171PC 17599STON/O2. 31012821138033734503...\n",
              "Fare                                                     28693.9\n",
              "dtype: object"
            ]
          },
          "metadata": {
            "tags": []
          },
          "execution_count": 11
        }
      ]
    },
    {
      "metadata": {
        "id": "z-3xny3krjHs",
        "colab_type": "code",
        "outputId": "587536f5-a23b-4ca9-c44a-16ef46e5cc61",
        "colab": {
          "base_uri": "https://localhost:8080/",
          "height": 156
        }
      },
      "cell_type": "code",
      "source": [
        "train_data.mean()"
      ],
      "execution_count": 12,
      "outputs": [
        {
          "output_type": "execute_result",
          "data": {
            "text/plain": [
              "PassengerId    446.000000\n",
              "Survived         0.383838\n",
              "Pclass           2.308642\n",
              "Age             29.699118\n",
              "SibSp            0.523008\n",
              "Parch            0.381594\n",
              "Fare            32.204208\n",
              "dtype: float64"
            ]
          },
          "metadata": {
            "tags": []
          },
          "execution_count": 12
        }
      ]
    },
    {
      "metadata": {
        "id": "TMSos42Gro9M",
        "colab_type": "code",
        "outputId": "3f7385cd-cd43-470e-a5e8-303cb7ac3fc8",
        "colab": {
          "base_uri": "https://localhost:8080/",
          "height": 1092
        }
      },
      "cell_type": "code",
      "source": [
        "train_data['Fare'].cumsum()"
      ],
      "execution_count": 13,
      "outputs": [
        {
          "output_type": "execute_result",
          "data": {
            "text/plain": [
              "0          7.2500\n",
              "1         78.5333\n",
              "2         86.4583\n",
              "3        139.5583\n",
              "4        147.6083\n",
              "5        156.0666\n",
              "6        207.9291\n",
              "7        229.0041\n",
              "8        240.1374\n",
              "9        270.2082\n",
              "10       286.9082\n",
              "11       313.4582\n",
              "12       321.5082\n",
              "13       352.7832\n",
              "14       360.6374\n",
              "15       376.6374\n",
              "16       405.7624\n",
              "17       418.7624\n",
              "18       436.7624\n",
              "19       443.9874\n",
              "20       469.9874\n",
              "21       482.9874\n",
              "22       491.0166\n",
              "23       526.5166\n",
              "24       547.5916\n",
              "25       578.9791\n",
              "26       586.2041\n",
              "27       849.2041\n",
              "28       857.0833\n",
              "29       864.9791\n",
              "          ...    \n",
              "861    28077.7245\n",
              "862    28103.6537\n",
              "863    28173.2037\n",
              "864    28186.2037\n",
              "865    28199.2037\n",
              "866    28213.0620\n",
              "867    28263.5578\n",
              "868    28273.0578\n",
              "869    28284.1911\n",
              "870    28292.0869\n",
              "871    28344.6411\n",
              "872    28349.6411\n",
              "873    28358.6411\n",
              "874    28382.6411\n",
              "875    28389.8661\n",
              "876    28399.7119\n",
              "877    28407.6077\n",
              "878    28415.5035\n",
              "879    28498.6618\n",
              "880    28524.6618\n",
              "881    28532.5576\n",
              "882    28543.0743\n",
              "883    28553.5743\n",
              "884    28560.6243\n",
              "885    28589.7493\n",
              "886    28602.7493\n",
              "887    28632.7493\n",
              "888    28656.1993\n",
              "889    28686.1993\n",
              "890    28693.9493\n",
              "Name: Fare, Length: 891, dtype: float64"
            ]
          },
          "metadata": {
            "tags": []
          },
          "execution_count": 13
        }
      ]
    },
    {
      "metadata": {
        "id": "xjHz1-i_sECY",
        "colab_type": "code",
        "outputId": "f29c02e7-a575-4e4f-8262-b36548c5d171",
        "colab": {
          "base_uri": "https://localhost:8080/",
          "height": 35
        }
      },
      "cell_type": "code",
      "source": [
        "train_data['Pclass'].corr(train_data['Fare'])"
      ],
      "execution_count": 16,
      "outputs": [
        {
          "output_type": "execute_result",
          "data": {
            "text/plain": [
              "-0.5494996199439074"
            ]
          },
          "metadata": {
            "tags": []
          },
          "execution_count": 16
        }
      ]
    },
    {
      "metadata": {
        "id": "qEGyAnTwsX1R",
        "colab_type": "code",
        "outputId": "8ce32ecf-a36c-40de-ecfa-6d87d735729b",
        "colab": {
          "base_uri": "https://localhost:8080/",
          "height": 263
        }
      },
      "cell_type": "code",
      "source": [
        "train_data.corr()"
      ],
      "execution_count": 17,
      "outputs": [
        {
          "output_type": "execute_result",
          "data": {
            "text/html": [
              "<div>\n",
              "<style scoped>\n",
              "    .dataframe tbody tr th:only-of-type {\n",
              "        vertical-align: middle;\n",
              "    }\n",
              "\n",
              "    .dataframe tbody tr th {\n",
              "        vertical-align: top;\n",
              "    }\n",
              "\n",
              "    .dataframe thead th {\n",
              "        text-align: right;\n",
              "    }\n",
              "</style>\n",
              "<table border=\"1\" class=\"dataframe\">\n",
              "  <thead>\n",
              "    <tr style=\"text-align: right;\">\n",
              "      <th></th>\n",
              "      <th>PassengerId</th>\n",
              "      <th>Survived</th>\n",
              "      <th>Pclass</th>\n",
              "      <th>Age</th>\n",
              "      <th>SibSp</th>\n",
              "      <th>Parch</th>\n",
              "      <th>Fare</th>\n",
              "    </tr>\n",
              "  </thead>\n",
              "  <tbody>\n",
              "    <tr>\n",
              "      <th>PassengerId</th>\n",
              "      <td>1.000000</td>\n",
              "      <td>-0.005007</td>\n",
              "      <td>-0.035144</td>\n",
              "      <td>0.036847</td>\n",
              "      <td>-0.057527</td>\n",
              "      <td>-0.001652</td>\n",
              "      <td>0.012658</td>\n",
              "    </tr>\n",
              "    <tr>\n",
              "      <th>Survived</th>\n",
              "      <td>-0.005007</td>\n",
              "      <td>1.000000</td>\n",
              "      <td>-0.338481</td>\n",
              "      <td>-0.077221</td>\n",
              "      <td>-0.035322</td>\n",
              "      <td>0.081629</td>\n",
              "      <td>0.257307</td>\n",
              "    </tr>\n",
              "    <tr>\n",
              "      <th>Pclass</th>\n",
              "      <td>-0.035144</td>\n",
              "      <td>-0.338481</td>\n",
              "      <td>1.000000</td>\n",
              "      <td>-0.369226</td>\n",
              "      <td>0.083081</td>\n",
              "      <td>0.018443</td>\n",
              "      <td>-0.549500</td>\n",
              "    </tr>\n",
              "    <tr>\n",
              "      <th>Age</th>\n",
              "      <td>0.036847</td>\n",
              "      <td>-0.077221</td>\n",
              "      <td>-0.369226</td>\n",
              "      <td>1.000000</td>\n",
              "      <td>-0.308247</td>\n",
              "      <td>-0.189119</td>\n",
              "      <td>0.096067</td>\n",
              "    </tr>\n",
              "    <tr>\n",
              "      <th>SibSp</th>\n",
              "      <td>-0.057527</td>\n",
              "      <td>-0.035322</td>\n",
              "      <td>0.083081</td>\n",
              "      <td>-0.308247</td>\n",
              "      <td>1.000000</td>\n",
              "      <td>0.414838</td>\n",
              "      <td>0.159651</td>\n",
              "    </tr>\n",
              "    <tr>\n",
              "      <th>Parch</th>\n",
              "      <td>-0.001652</td>\n",
              "      <td>0.081629</td>\n",
              "      <td>0.018443</td>\n",
              "      <td>-0.189119</td>\n",
              "      <td>0.414838</td>\n",
              "      <td>1.000000</td>\n",
              "      <td>0.216225</td>\n",
              "    </tr>\n",
              "    <tr>\n",
              "      <th>Fare</th>\n",
              "      <td>0.012658</td>\n",
              "      <td>0.257307</td>\n",
              "      <td>-0.549500</td>\n",
              "      <td>0.096067</td>\n",
              "      <td>0.159651</td>\n",
              "      <td>0.216225</td>\n",
              "      <td>1.000000</td>\n",
              "    </tr>\n",
              "  </tbody>\n",
              "</table>\n",
              "</div>"
            ],
            "text/plain": [
              "             PassengerId  Survived    Pclass       Age     SibSp     Parch  \\\n",
              "PassengerId     1.000000 -0.005007 -0.035144  0.036847 -0.057527 -0.001652   \n",
              "Survived       -0.005007  1.000000 -0.338481 -0.077221 -0.035322  0.081629   \n",
              "Pclass         -0.035144 -0.338481  1.000000 -0.369226  0.083081  0.018443   \n",
              "Age             0.036847 -0.077221 -0.369226  1.000000 -0.308247 -0.189119   \n",
              "SibSp          -0.057527 -0.035322  0.083081 -0.308247  1.000000  0.414838   \n",
              "Parch          -0.001652  0.081629  0.018443 -0.189119  0.414838  1.000000   \n",
              "Fare            0.012658  0.257307 -0.549500  0.096067  0.159651  0.216225   \n",
              "\n",
              "                 Fare  \n",
              "PassengerId  0.012658  \n",
              "Survived     0.257307  \n",
              "Pclass      -0.549500  \n",
              "Age          0.096067  \n",
              "SibSp        0.159651  \n",
              "Parch        0.216225  \n",
              "Fare         1.000000  "
            ]
          },
          "metadata": {
            "tags": []
          },
          "execution_count": 17
        }
      ]
    },
    {
      "metadata": {
        "id": "3C-FI7Qsw_s2",
        "colab_type": "code",
        "outputId": "1a44d177-c751-4b50-acc0-746257251080",
        "colab": {
          "base_uri": "https://localhost:8080/",
          "height": 283
        }
      },
      "cell_type": "code",
      "source": [
        "train_data['Age'].hist()"
      ],
      "execution_count": 21,
      "outputs": [
        {
          "output_type": "execute_result",
          "data": {
            "text/plain": [
              "<matplotlib.axes._subplots.AxesSubplot at 0x7f4296494fd0>"
            ]
          },
          "metadata": {
            "tags": []
          },
          "execution_count": 21
        },
        {
          "output_type": "display_data",
          "data": {
            "image/png": "[encoded data removed]",
            "text/plain": [
              "<Figure size 432x288 with 1 Axes>"
            ]
          },
          "metadata": {
            "tags": []
          }
        }
      ]
    },
    {
      "metadata": {
        "id": "LqUdm6o3xJXh",
        "colab_type": "code",
        "outputId": "5dd24be3-d547-4add-a78a-e1cc43ed3ca4",
        "colab": {
          "base_uri": "https://localhost:8080/",
          "height": 330
        }
      },
      "cell_type": "code",
      "source": [
        "# visualizacion\n",
        "import seaborn as sns\n",
        "sns.barplot(x='Pclass',y='Survived',hue='Sex',data=train_data)"
      ],
      "execution_count": 0,
      "outputs": [
        {
          "output_type": "stream",
          "text": [
            "/usr/local/lib/python3.6/dist-packages/seaborn/categorical.py:1468: FutureWarning: remove_na is deprecated and is a private function. Do not use.\n",
            "  stat_data = remove_na(group_data[hue_mask])\n"
          ],
          "name": "stderr"
        },
        {
          "output_type": "execute_result",
          "data": {
            "text/plain": [
              "<matplotlib.axes._subplots.AxesSubplot at 0x7fac9e3667b8>"
            ]
          },
          "metadata": {
            "tags": []
          },
          "execution_count": 8
        },
        {
          "output_type": "display_data",
          "data": {
            "image/png": "[encoded data removed]",
            "text/plain": [
              "<Figure size 432x288 with 1 Axes>"
            ]
          },
          "metadata": {
            "tags": []
          }
        }
      ]
    },
    {
      "metadata": {
        "id": "5MOSB1aYxXGR",
        "colab_type": "code",
        "outputId": "cfbc3788-0d17-423b-cc22-4e2bebdae968",
        "colab": {
          "base_uri": "https://localhost:8080/",
          "height": 330
        }
      },
      "cell_type": "code",
      "source": [
        "sns.pointplot(x='Pclass',y='Survived',hue='Sex',data=train_data,palette={'male':'red', 'female':'blue'})"
      ],
      "execution_count": 0,
      "outputs": [
        {
          "output_type": "stream",
          "text": [
            "/usr/local/lib/python3.6/dist-packages/seaborn/categorical.py:1468: FutureWarning: remove_na is deprecated and is a private function. Do not use.\n",
            "  stat_data = remove_na(group_data[hue_mask])\n"
          ],
          "name": "stderr"
        },
        {
          "output_type": "execute_result",
          "data": {
            "text/plain": [
              "<matplotlib.axes._subplots.AxesSubplot at 0x7fac9c296588>"
            ]
          },
          "metadata": {
            "tags": []
          },
          "execution_count": 9
        },
        {
          "output_type": "display_data",
          "data": {
            "image/png": "[encoded data removed]",
            "text/plain": [
              "<Figure size 432x288 with 1 Axes>"
            ]
          },
          "metadata": {
            "tags": []
          }
        }
      ]
    },
    {
      "metadata": {
        "id": "gZYL7pUKxekk",
        "colab_type": "text"
      },
      "cell_type": "markdown",
      "source": [
        "## Agrupar información categorica"
      ]
    },
    {
      "metadata": {
        "id": "czcRUuIttBF0",
        "colab_type": "text"
      },
      "cell_type": "markdown",
      "source": [
        "#### Discretización (valores categóricos)\n",
        "- Tras Series y DataFrame, objeto para categorías: Categorical\n",
        "```python\n",
        "categorias = pd.cut(<valores>, <bins>) \n",
        "```"
      ]
    },
    {
      "metadata": {
        "id": "Kpt8uv_8s5yI",
        "colab_type": "code",
        "outputId": "0402a2f4-c374-45c7-a3dc-0c83bf7f2bac",
        "colab": {
          "base_uri": "https://localhost:8080/",
          "height": 51
        }
      },
      "cell_type": "code",
      "source": [
        "# especificar los bloques\n",
        "bins = [0,18,35,65,99]\n",
        "edades = [16,25,18,71,44,100]\n",
        "categorias = pd.cut(edades,bins)\n",
        "categorias"
      ],
      "execution_count": 0,
      "outputs": [
        {
          "output_type": "execute_result",
          "data": {
            "text/plain": [
              "[(0, 18], (18, 35], (0, 18], (65, 99], (35, 65], NaN]\n",
              "Categories (4, interval[int64]): [(0, 18] < (18, 35] < (35, 65] < (65, 99]]"
            ]
          },
          "metadata": {
            "tags": []
          },
          "execution_count": 22
        }
      ]
    },
    {
      "metadata": {
        "id": "lwJ3tFiNxZDg",
        "colab_type": "code",
        "outputId": "6a9ba187-c2fe-45a4-9abf-c813552d280d",
        "colab": {
          "base_uri": "https://localhost:8080/",
          "height": 225
        }
      },
      "cell_type": "code",
      "source": [
        "# limpieza de datos\n",
        "# categorizacion de Age (edad, en categorias)\n",
        "def cat_age(data):\n",
        "    data['Age'] = data['Age'].fillna(-0.5)\n",
        "    bins = (-1,0,12,18,30,60,120)\n",
        "    cat_names = ['Unknown','Child','Teenager','Young adult','Adult','Elderly']\n",
        "    categories = pd.cut(data['Age'],bins,labels=cat_names)\n",
        "    data['Age'] = categories\n",
        "    return data\n",
        "\n",
        "train_data = cat_age(train_data)\n",
        "test_data = cat_age(test_data)\n",
        "\n",
        "train_data.Age.sample(10)"
      ],
      "execution_count": 22,
      "outputs": [
        {
          "output_type": "execute_result",
          "data": {
            "text/plain": [
              "98           Adult\n",
              "130          Adult\n",
              "305          Child\n",
              "107        Unknown\n",
              "683       Teenager\n",
              "815        Unknown\n",
              "637          Adult\n",
              "715    Young adult\n",
              "520    Young adult\n",
              "596        Unknown\n",
              "Name: Age, dtype: category\n",
              "Categories (6, object): [Unknown < Child < Teenager < Young adult < Adult < Elderly]"
            ]
          },
          "metadata": {
            "tags": []
          },
          "execution_count": 22
        }
      ]
    },
    {
      "metadata": {
        "id": "L8RC5SjhxodI",
        "colab_type": "code",
        "outputId": "09a04dca-b59e-48ea-f1ef-11af1bc1b506",
        "colab": {
          "base_uri": "https://localhost:8080/",
          "height": 331
        }
      },
      "cell_type": "code",
      "source": [
        "sns.barplot(x='Age',y='Survived',data=train_data)"
      ],
      "execution_count": 23,
      "outputs": [
        {
          "output_type": "stream",
          "text": [
            "/usr/local/lib/python3.6/dist-packages/seaborn/categorical.py:1428: FutureWarning: remove_na is deprecated and is a private function. Do not use.\n",
            "  stat_data = remove_na(group_data)\n"
          ],
          "name": "stderr"
        },
        {
          "output_type": "execute_result",
          "data": {
            "text/plain": [
              "<matplotlib.axes._subplots.AxesSubplot at 0x7f42962a9cc0>"
            ]
          },
          "metadata": {
            "tags": []
          },
          "execution_count": 23
        },
        {
          "output_type": "display_data",
          "data": {
            "image/png": "[encoded data removed]",
            "text/plain": [
              "<Figure size 432x288 with 1 Axes>"
            ]
          },
          "metadata": {
            "tags": []
          }
        }
      ]
    },
    {
      "metadata": {
        "id": "_CWa6yYex7js",
        "colab_type": "code",
        "outputId": "939a4df1-5f53-461e-be5a-f227b5bdebc9",
        "colab": {
          "base_uri": "https://localhost:8080/",
          "height": 208
        }
      },
      "cell_type": "code",
      "source": [
        "# extraccion de la letra de la cabina (no numero)\n",
        "def extract_cabin(data):\n",
        "    data['Cabin'] = data['Cabin'].fillna('N')\n",
        "    data['Cabin'] = data['Cabin'].apply(lambda x : x[0])\n",
        "    return data\n",
        "\n",
        "train_data = extract_cabin(train_data)\n",
        "test_data = extract_cabin(test_data)\n",
        "\n",
        "train_data.Cabin.sample(10)"
      ],
      "execution_count": 24,
      "outputs": [
        {
          "output_type": "execute_result",
          "data": {
            "text/plain": [
              "452    C\n",
              "366    D\n",
              "842    N\n",
              "737    B\n",
              "8      N\n",
              "407    N\n",
              "687    N\n",
              "159    N\n",
              "345    F\n",
              "67     N\n",
              "Name: Cabin, dtype: object"
            ]
          },
          "metadata": {
            "tags": []
          },
          "execution_count": 24
        }
      ]
    },
    {
      "metadata": {
        "id": "4rTdtgoDyGYT",
        "colab_type": "code",
        "outputId": "ea921fd0-2926-47ef-fda0-b5a575e325d8",
        "colab": {
          "base_uri": "https://localhost:8080/",
          "height": 225
        }
      },
      "cell_type": "code",
      "source": [
        "# categorizacion de Fare (precio del ticket, en cuartiles)\n",
        "def cat_fare(data):\n",
        "    data['Fare'] = data['Fare'].fillna(-0.5)\n",
        "    cat_names = ['Unknown','1st','2nd','3rd','4rd']\n",
        "    data['Fare'] = pd.qcut(data['Fare'],5,labels=cat_names)\n",
        "    return data\n",
        "\n",
        "train_data = cat_fare(train_data)\n",
        "test_data = cat_fare(test_data)\n",
        "\n",
        "train_data.Fare.sample(10)"
      ],
      "execution_count": 25,
      "outputs": [
        {
          "output_type": "execute_result",
          "data": {
            "text/plain": [
              "526        1st\n",
              "770        1st\n",
              "103        1st\n",
              "793        3rd\n",
              "131    Unknown\n",
              "618        3rd\n",
              "540        4rd\n",
              "741        4rd\n",
              "283        1st\n",
              "820        4rd\n",
              "Name: Fare, dtype: category\n",
              "Categories (5, object): [Unknown < 1st < 2nd < 3rd < 4rd]"
            ]
          },
          "metadata": {
            "tags": []
          },
          "execution_count": 25
        }
      ]
    },
    {
      "metadata": {
        "id": "id-Xrdc0yMuT",
        "colab_type": "code",
        "outputId": "c93ad205-4003-40f6-ddb2-ffdbb074062c",
        "colab": {
          "base_uri": "https://localhost:8080/",
          "height": 208
        }
      },
      "cell_type": "code",
      "source": [
        "# extraer info del nombre (Mr, Ms...)\n",
        "def extract_title(data):\n",
        "    data['Title'] = data['Name'].apply(lambda x : x.split(' ')[1])\n",
        "    return data\n",
        "\n",
        "train_data = extract_title(train_data)\n",
        "test_data = extract_title(test_data)\n",
        "\n",
        "train_data.Title.sample(10)"
      ],
      "execution_count": 26,
      "outputs": [
        {
          "output_type": "execute_result",
          "data": {
            "text/plain": [
              "284      Mr.\n",
              "239      Mr.\n",
              "889      Mr.\n",
              "420      Mr.\n",
              "754     Mrs.\n",
              "519      Mr.\n",
              "177    Miss.\n",
              "576    Miss.\n",
              "277      Mr.\n",
              "886     Rev.\n",
              "Name: Title, dtype: object"
            ]
          },
          "metadata": {
            "tags": []
          },
          "execution_count": 26
        }
      ]
    },
    {
      "metadata": {
        "id": "SCAXi4toyOWF",
        "colab_type": "code",
        "outputId": "ae100781-b927-4970-f180-b448fc87df8e",
        "colab": {
          "base_uri": "https://localhost:8080/",
          "height": 355
        }
      },
      "cell_type": "code",
      "source": [
        "# Eliminacion de datos poco informativos (Name, Ticket)\n",
        "def drop_columns(data,columns):\n",
        "    return data.drop(columns,axis=1)\n",
        "\n",
        "columns_to_drop = ['Name','Ticket','Embarked']\n",
        "train_data = drop_columns(train_data,columns_to_drop)\n",
        "test_data = drop_columns(test_data,columns_to_drop)\n",
        "\n",
        "train_data.sample(10)"
      ],
      "execution_count": 27,
      "outputs": [
        {
          "output_type": "execute_result",
          "data": {
            "text/html": [
              "<div>\n",
              "<style scoped>\n",
              "    .dataframe tbody tr th:only-of-type {\n",
              "        vertical-align: middle;\n",
              "    }\n",
              "\n",
              "    .dataframe tbody tr th {\n",
              "        vertical-align: top;\n",
              "    }\n",
              "\n",
              "    .dataframe thead th {\n",
              "        text-align: right;\n",
              "    }\n",
              "</style>\n",
              "<table border=\"1\" class=\"dataframe\">\n",
              "  <thead>\n",
              "    <tr style=\"text-align: right;\">\n",
              "      <th></th>\n",
              "      <th>PassengerId</th>\n",
              "      <th>Survived</th>\n",
              "      <th>Pclass</th>\n",
              "      <th>Sex</th>\n",
              "      <th>Age</th>\n",
              "      <th>SibSp</th>\n",
              "      <th>Parch</th>\n",
              "      <th>Fare</th>\n",
              "      <th>Cabin</th>\n",
              "      <th>Title</th>\n",
              "    </tr>\n",
              "  </thead>\n",
              "  <tbody>\n",
              "    <tr>\n",
              "      <th>793</th>\n",
              "      <td>794</td>\n",
              "      <td>0</td>\n",
              "      <td>1</td>\n",
              "      <td>male</td>\n",
              "      <td>Unknown</td>\n",
              "      <td>0</td>\n",
              "      <td>0</td>\n",
              "      <td>3rd</td>\n",
              "      <td>N</td>\n",
              "      <td>Mr.</td>\n",
              "    </tr>\n",
              "    <tr>\n",
              "      <th>128</th>\n",
              "      <td>129</td>\n",
              "      <td>1</td>\n",
              "      <td>3</td>\n",
              "      <td>female</td>\n",
              "      <td>Unknown</td>\n",
              "      <td>1</td>\n",
              "      <td>1</td>\n",
              "      <td>3rd</td>\n",
              "      <td>F</td>\n",
              "      <td>Miss.</td>\n",
              "    </tr>\n",
              "    <tr>\n",
              "      <th>708</th>\n",
              "      <td>709</td>\n",
              "      <td>1</td>\n",
              "      <td>1</td>\n",
              "      <td>female</td>\n",
              "      <td>Young adult</td>\n",
              "      <td>0</td>\n",
              "      <td>0</td>\n",
              "      <td>4rd</td>\n",
              "      <td>N</td>\n",
              "      <td>Miss.</td>\n",
              "    </tr>\n",
              "    <tr>\n",
              "      <th>323</th>\n",
              "      <td>324</td>\n",
              "      <td>1</td>\n",
              "      <td>2</td>\n",
              "      <td>female</td>\n",
              "      <td>Young adult</td>\n",
              "      <td>1</td>\n",
              "      <td>1</td>\n",
              "      <td>3rd</td>\n",
              "      <td>N</td>\n",
              "      <td>Mrs.</td>\n",
              "    </tr>\n",
              "    <tr>\n",
              "      <th>731</th>\n",
              "      <td>732</td>\n",
              "      <td>0</td>\n",
              "      <td>3</td>\n",
              "      <td>male</td>\n",
              "      <td>Child</td>\n",
              "      <td>0</td>\n",
              "      <td>0</td>\n",
              "      <td>2nd</td>\n",
              "      <td>N</td>\n",
              "      <td>Mr.</td>\n",
              "    </tr>\n",
              "    <tr>\n",
              "      <th>97</th>\n",
              "      <td>98</td>\n",
              "      <td>1</td>\n",
              "      <td>1</td>\n",
              "      <td>male</td>\n",
              "      <td>Young adult</td>\n",
              "      <td>0</td>\n",
              "      <td>1</td>\n",
              "      <td>4rd</td>\n",
              "      <td>D</td>\n",
              "      <td>Mr.</td>\n",
              "    </tr>\n",
              "    <tr>\n",
              "      <th>6</th>\n",
              "      <td>7</td>\n",
              "      <td>0</td>\n",
              "      <td>1</td>\n",
              "      <td>male</td>\n",
              "      <td>Adult</td>\n",
              "      <td>0</td>\n",
              "      <td>0</td>\n",
              "      <td>4rd</td>\n",
              "      <td>E</td>\n",
              "      <td>Mr.</td>\n",
              "    </tr>\n",
              "    <tr>\n",
              "      <th>153</th>\n",
              "      <td>154</td>\n",
              "      <td>0</td>\n",
              "      <td>3</td>\n",
              "      <td>male</td>\n",
              "      <td>Adult</td>\n",
              "      <td>0</td>\n",
              "      <td>2</td>\n",
              "      <td>2nd</td>\n",
              "      <td>N</td>\n",
              "      <td>Billiard,</td>\n",
              "    </tr>\n",
              "    <tr>\n",
              "      <th>641</th>\n",
              "      <td>642</td>\n",
              "      <td>1</td>\n",
              "      <td>1</td>\n",
              "      <td>female</td>\n",
              "      <td>Young adult</td>\n",
              "      <td>0</td>\n",
              "      <td>0</td>\n",
              "      <td>4rd</td>\n",
              "      <td>B</td>\n",
              "      <td>Mlle.</td>\n",
              "    </tr>\n",
              "    <tr>\n",
              "      <th>646</th>\n",
              "      <td>647</td>\n",
              "      <td>0</td>\n",
              "      <td>3</td>\n",
              "      <td>male</td>\n",
              "      <td>Young adult</td>\n",
              "      <td>0</td>\n",
              "      <td>0</td>\n",
              "      <td>1st</td>\n",
              "      <td>N</td>\n",
              "      <td>Mr.</td>\n",
              "    </tr>\n",
              "  </tbody>\n",
              "</table>\n",
              "</div>"
            ],
            "text/plain": [
              "     PassengerId  Survived  Pclass     Sex          Age  SibSp  Parch Fare  \\\n",
              "793          794         0       1    male      Unknown      0      0  3rd   \n",
              "128          129         1       3  female      Unknown      1      1  3rd   \n",
              "708          709         1       1  female  Young adult      0      0  4rd   \n",
              "323          324         1       2  female  Young adult      1      1  3rd   \n",
              "731          732         0       3    male        Child      0      0  2nd   \n",
              "97            98         1       1    male  Young adult      0      1  4rd   \n",
              "6              7         0       1    male        Adult      0      0  4rd   \n",
              "153          154         0       3    male        Adult      0      2  2nd   \n",
              "641          642         1       1  female  Young adult      0      0  4rd   \n",
              "646          647         0       3    male  Young adult      0      0  1st   \n",
              "\n",
              "    Cabin      Title  \n",
              "793     N        Mr.  \n",
              "128     F      Miss.  \n",
              "708     N      Miss.  \n",
              "323     N       Mrs.  \n",
              "731     N        Mr.  \n",
              "97      D        Mr.  \n",
              "6       E        Mr.  \n",
              "153     N  Billiard,  \n",
              "641     B      Mlle.  \n",
              "646     N        Mr.  "
            ]
          },
          "metadata": {
            "tags": []
          },
          "execution_count": 27
        }
      ]
    },
    {
      "metadata": {
        "id": "1iCpVVG_yTfU",
        "colab_type": "code",
        "outputId": "9166fd21-937c-4ec8-8df1-89631368b20e",
        "colab": {
          "base_uri": "https://localhost:8080/",
          "height": 331
        }
      },
      "cell_type": "code",
      "source": [
        "# representar los datos categoricos\n",
        "# Edad vs supervivencia\n",
        "sns.barplot(x='Age',y='Survived',hue='Sex',data=train_data)"
      ],
      "execution_count": 28,
      "outputs": [
        {
          "output_type": "stream",
          "text": [
            "/usr/local/lib/python3.6/dist-packages/seaborn/categorical.py:1468: FutureWarning: remove_na is deprecated and is a private function. Do not use.\n",
            "  stat_data = remove_na(group_data[hue_mask])\n"
          ],
          "name": "stderr"
        },
        {
          "output_type": "execute_result",
          "data": {
            "text/plain": [
              "<matplotlib.axes._subplots.AxesSubplot at 0x7f429650a048>"
            ]
          },
          "metadata": {
            "tags": []
          },
          "execution_count": 28
        },
        {
          "output_type": "display_data",
          "data": {
            "image/png": "[encoded data removed]",
            "text/plain": [
              "<Figure size 432x288 with 1 Axes>"
            ]
          },
          "metadata": {
            "tags": []
          }
        }
      ]
    },
    {
      "metadata": {
        "id": "MScgQQdyyZQM",
        "colab_type": "code",
        "outputId": "dc1b6bf8-35d5-4828-ebb4-136aaf747d14",
        "colab": {
          "base_uri": "https://localhost:8080/",
          "height": 333
        }
      },
      "cell_type": "code",
      "source": [
        "# Precio del ticket vs supervivencia\n",
        "sns.barplot(x='Fare',y='Survived',hue='Sex',data=train_data)"
      ],
      "execution_count": 29,
      "outputs": [
        {
          "output_type": "stream",
          "text": [
            "/usr/local/lib/python3.6/dist-packages/seaborn/categorical.py:1468: FutureWarning: remove_na is deprecated and is a private function. Do not use.\n",
            "  stat_data = remove_na(group_data[hue_mask])\n"
          ],
          "name": "stderr"
        },
        {
          "output_type": "execute_result",
          "data": {
            "text/plain": [
              "<matplotlib.axes._subplots.AxesSubplot at 0x7f4292dcd4e0>"
            ]
          },
          "metadata": {
            "tags": []
          },
          "execution_count": 29
        },
        {
          "output_type": "display_data",
          "data": {
            "image/png": "[encoded data removed]",
            "text/plain": [
              "<Figure size 432x288 with 1 Axes>"
            ]
          },
          "metadata": {
            "tags": []
          }
        }
      ]
    },
    {
      "metadata": {
        "id": "VTp-MpBj0VBd",
        "colab_type": "code",
        "outputId": "40caa010-4ae9-40c6-9fd6-840449274ef5",
        "colab": {
          "base_uri": "https://localhost:8080/",
          "height": 891
        }
      },
      "cell_type": "code",
      "source": [
        "ax = sns.heatmap(train_data, annot=True, fmt=\"d\")\n",
        "ax = sns.heatmap(train_data, cmap=\"YlGnBu\")\n",
        "import seaborn as sns\n",
        "corr = train_data.corr()\n",
        "fig, ax = plt.subplots(figsize=(10, 10))\n",
        "ax = sns.heatmap(corr, \n",
        "            xticklabels=corr.columns.values,\n",
        "            yticklabels=corr.columns.values)\n"
      ],
      "execution_count": 0,
      "outputs": [
        {
          "output_type": "display_data",
          "data": {
            "image/png": "[encoded data removed]",
            "text/plain": [
              "<Figure size 432x288 with 3 Axes>"
            ]
          },
          "metadata": {
            "tags": []
          }
        },
        {
          "output_type": "display_data",
          "data": {
            "image/png": "[encoded data removed]",
            "text/plain": [
              "<Figure size 720x720 with 2 Axes>"
            ]
          },
          "metadata": {
            "tags": []
          }
        }
      ]
    },
    {
      "metadata": {
        "id": "bqrG7PcQ0kGW",
        "colab_type": "code",
        "outputId": "67ee8d69-42f7-4885-e624-d1a50d7f8912",
        "colab": {
          "base_uri": "https://localhost:8080/",
          "height": 606
        }
      },
      "cell_type": "code",
      "source": [
        "\n",
        "f, ax = plt.subplots(figsize=(12, 10))\n",
        "corr = train_data.corr()\n",
        "sns.heatmap(corr, mask=np.zeros_like(corr, dtype=np.bool), cmap=sns.diverging_palette(220, 10, as_cmap=True),\n",
        "            square=True, ax=ax)"
      ],
      "execution_count": 19,
      "outputs": [
        {
          "output_type": "execute_result",
          "data": {
            "text/plain": [
              "<matplotlib.axes._subplots.AxesSubplot at 0x7f429629b0b8>"
            ]
          },
          "metadata": {
            "tags": []
          },
          "execution_count": 19
        },
        {
          "output_type": "display_data",
          "data": {
            "image/png": "[encoded data removed]",
            "text/plain": [
              "<Figure size 864x720 with 2 Axes>"
            ]
          },
          "metadata": {
            "tags": []
          }
        }
      ]
    },
    {
      "metadata": {
        "id": "_jvoi7Bc15p6",
        "colab_type": "code",
        "colab": {}
      },
      "cell_type": "code",
      "source": [
        ""
      ],
      "execution_count": 0,
      "outputs": []
    },
    {
      "metadata": {
        "id": "H5ie2jodyiLi",
        "colab_type": "text"
      },
      "cell_type": "markdown",
      "source": [
        "## Preparandonos para el ML"
      ]
    },
    {
      "metadata": {
        "id": "FhPucBFPyc_z",
        "colab_type": "code",
        "outputId": "741a1234-362b-4ab2-bfa6-4db665acf97a",
        "colab": {
          "base_uri": "https://localhost:8080/",
          "height": 202
        }
      },
      "cell_type": "code",
      "source": [
        "# Preparar para machine learning\n",
        "# transformar datos en etiquetas numericas\n",
        "from sklearn import preprocessing\n",
        "\n",
        "def encode_features(df_train, df_test):\n",
        "    features = ['Fare', 'Cabin', 'Age', 'Sex', 'Title']\n",
        "    df_combined = pd.concat([df_train[features], df_test[features]])\n",
        "    \n",
        "    for feature in features:\n",
        "        le = preprocessing.LabelEncoder()\n",
        "        le = le.fit(df_combined[feature])\n",
        "        df_train[feature] = le.transform(df_train[feature])\n",
        "        df_test[feature] = le.transform(df_test[feature])\n",
        "    return df_train, df_test\n",
        "    \n",
        "train_data, test_data = encode_features(train_data, test_data)\n",
        "train_data.head()"
      ],
      "execution_count": 37,
      "outputs": [
        {
          "output_type": "execute_result",
          "data": {
            "text/html": [
              "<div>\n",
              "<style scoped>\n",
              "    .dataframe tbody tr th:only-of-type {\n",
              "        vertical-align: middle;\n",
              "    }\n",
              "\n",
              "    .dataframe tbody tr th {\n",
              "        vertical-align: top;\n",
              "    }\n",
              "\n",
              "    .dataframe thead th {\n",
              "        text-align: right;\n",
              "    }\n",
              "</style>\n",
              "<table border=\"1\" class=\"dataframe\">\n",
              "  <thead>\n",
              "    <tr style=\"text-align: right;\">\n",
              "      <th></th>\n",
              "      <th>PassengerId</th>\n",
              "      <th>Survived</th>\n",
              "      <th>Pclass</th>\n",
              "      <th>Sex</th>\n",
              "      <th>Age</th>\n",
              "      <th>SibSp</th>\n",
              "      <th>Parch</th>\n",
              "      <th>Fare</th>\n",
              "      <th>Cabin</th>\n",
              "      <th>Title</th>\n",
              "    </tr>\n",
              "  </thead>\n",
              "  <tbody>\n",
              "    <tr>\n",
              "      <th>0</th>\n",
              "      <td>1</td>\n",
              "      <td>0</td>\n",
              "      <td>3</td>\n",
              "      <td>1</td>\n",
              "      <td>5</td>\n",
              "      <td>1</td>\n",
              "      <td>0</td>\n",
              "      <td>4</td>\n",
              "      <td>7</td>\n",
              "      <td>19</td>\n",
              "    </tr>\n",
              "    <tr>\n",
              "      <th>1</th>\n",
              "      <td>2</td>\n",
              "      <td>1</td>\n",
              "      <td>1</td>\n",
              "      <td>0</td>\n",
              "      <td>0</td>\n",
              "      <td>1</td>\n",
              "      <td>0</td>\n",
              "      <td>3</td>\n",
              "      <td>2</td>\n",
              "      <td>20</td>\n",
              "    </tr>\n",
              "    <tr>\n",
              "      <th>2</th>\n",
              "      <td>3</td>\n",
              "      <td>1</td>\n",
              "      <td>3</td>\n",
              "      <td>0</td>\n",
              "      <td>5</td>\n",
              "      <td>0</td>\n",
              "      <td>0</td>\n",
              "      <td>0</td>\n",
              "      <td>7</td>\n",
              "      <td>16</td>\n",
              "    </tr>\n",
              "    <tr>\n",
              "      <th>3</th>\n",
              "      <td>4</td>\n",
              "      <td>1</td>\n",
              "      <td>1</td>\n",
              "      <td>0</td>\n",
              "      <td>0</td>\n",
              "      <td>1</td>\n",
              "      <td>0</td>\n",
              "      <td>3</td>\n",
              "      <td>2</td>\n",
              "      <td>20</td>\n",
              "    </tr>\n",
              "    <tr>\n",
              "      <th>4</th>\n",
              "      <td>5</td>\n",
              "      <td>0</td>\n",
              "      <td>3</td>\n",
              "      <td>1</td>\n",
              "      <td>0</td>\n",
              "      <td>0</td>\n",
              "      <td>0</td>\n",
              "      <td>0</td>\n",
              "      <td>7</td>\n",
              "      <td>19</td>\n",
              "    </tr>\n",
              "  </tbody>\n",
              "</table>\n",
              "</div>"
            ],
            "text/plain": [
              "   PassengerId  Survived  Pclass  Sex  Age  SibSp  Parch  Fare  Cabin  Title\n",
              "0            1         0       3    1    5      1      0     4      7     19\n",
              "1            2         1       1    0    0      1      0     3      2     20\n",
              "2            3         1       3    0    5      0      0     0      7     16\n",
              "3            4         1       1    0    0      1      0     3      2     20\n",
              "4            5         0       3    1    0      0      0     0      7     19"
            ]
          },
          "metadata": {
            "tags": []
          },
          "execution_count": 37
        }
      ]
    },
    {
      "metadata": {
        "id": "_Jb4phxLyvrJ",
        "colab_type": "code",
        "colab": {}
      },
      "cell_type": "code",
      "source": [
        "from sklearn.model_selection import train_test_split\n",
        "\n",
        "# dividir train/validating sets\n",
        "X = train_data.drop(['Survived'],axis=1)\n",
        "Y = train_data['Survived']\n",
        "\n",
        "validation_size=0.15\n",
        "seed = np.random.randint(1000)\n",
        "X_train, X_validation, Y_train, Y_validation = train_test_split(X, Y, test_size=validation_size, random_state=seed)"
      ],
      "execution_count": 0,
      "outputs": []
    },
    {
      "metadata": {
        "id": "_FwnS_C44K5-",
        "colab_type": "text"
      },
      "cell_type": "markdown",
      "source": [
        "**El concepto de los árboles de decisión es dividir el conjunto de datos de forma jerárquica en trozos cada vez menores hasta llegar a trozos donde los ejemplos son todos, o prácticamente todos, de la misma clase. **"
      ]
    },
    {
      "metadata": {
        "id": "P18c_OIAywrs",
        "colab_type": "code",
        "outputId": "b5a8a9b5-f3c6-4127-9ae2-865f5148d426",
        "colab": {
          "base_uri": "https://localhost:8080/",
          "height": 121
        }
      },
      "cell_type": "code",
      "source": [
        "# Decision tree ML\n",
        "from sklearn.tree import DecisionTreeClassifier\n",
        "model = DecisionTreeClassifier()\n",
        "model.fit(X_train,Y_train)"
      ],
      "execution_count": 39,
      "outputs": [
        {
          "output_type": "execute_result",
          "data": {
            "text/plain": [
              "DecisionTreeClassifier(class_weight=None, criterion='gini', max_depth=None,\n",
              "            max_features=None, max_leaf_nodes=None,\n",
              "            min_impurity_decrease=0.0, min_impurity_split=None,\n",
              "            min_samples_leaf=1, min_samples_split=2,\n",
              "            min_weight_fraction_leaf=0.0, presort=False, random_state=None,\n",
              "            splitter='best')"
            ]
          },
          "metadata": {
            "tags": []
          },
          "execution_count": 39
        }
      ]
    },
    {
      "metadata": {
        "id": "PMjsRvg8yz1P",
        "colab_type": "code",
        "outputId": "343b297a-6182-4741-b1d0-b60f8361d567",
        "colab": {
          "base_uri": "https://localhost:8080/",
          "height": 225
        }
      },
      "cell_type": "code",
      "source": [
        "# Evaluacion\n",
        "# test accuracy on validation set\n",
        "from sklearn.metrics import classification_report\n",
        "from sklearn.metrics import confusion_matrix\n",
        "from sklearn.metrics import accuracy_score\n",
        "prediction = model.predict(X_validation)\n",
        "print('Accuracy: {}'.format(accuracy_score(prediction,Y_validation)))\n",
        "print(confusion_matrix(Y_validation,prediction))\n",
        "print(classification_report(Y_validation,prediction))"
      ],
      "execution_count": 40,
      "outputs": [
        {
          "output_type": "stream",
          "text": [
            "Accuracy: 0.7238805970149254\n",
            "[[63 19]\n",
            " [18 34]]\n",
            "              precision    recall  f1-score   support\n",
            "\n",
            "           0       0.78      0.77      0.77        82\n",
            "           1       0.64      0.65      0.65        52\n",
            "\n",
            "   micro avg       0.72      0.72      0.72       134\n",
            "   macro avg       0.71      0.71      0.71       134\n",
            "weighted avg       0.72      0.72      0.72       134\n",
            "\n"
          ],
          "name": "stdout"
        }
      ]
    },
    {
      "metadata": {
        "id": "JACTVGKLza63",
        "colab_type": "text"
      },
      "cell_type": "markdown",
      "source": [
        "| | Event |  NoEvent  |\n",
        "| ------------- | --- | --- |\n",
        "| Event | TruePositive | FalsePositive\n",
        "| NoEvent | FalsePositive | TrueNegative"
      ]
    }
  ]
}